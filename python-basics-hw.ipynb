{
 "cells": [
  {
   "cell_type": "markdown",
   "metadata": {},
   "source": [
    "**Задание 1**. Даны 2 строки: *long_phrase* и *short_phrase*. \n",
    "Напишите код, который проверяет действительно ли длинная фраза *long_phrase* длиннее короткой *short_phrase*. И выводит *True* или *False* в зависимости от результата сравнения."
   ]
  },
  {
   "cell_type": "code",
   "execution_count": 1,
   "metadata": {},
   "outputs": [],
   "source": [
    "long_phrase = 'Насколько проще было бы писать программы, если бы не заказчики'\n",
    "short_phrase = '640Кб должно хватить для любых задач. Билл Гейтс (по легенде)'"
   ]
  },
  {
   "cell_type": "code",
   "execution_count": 14,
   "metadata": {},
   "outputs": [
    {
     "name": "stdout",
     "output_type": "stream",
     "text": [
      "False\n"
     ]
    }
   ],
   "source": [
    "print ('long_phrase' > 'short_phrase')"
   ]
  },
  {
   "cell_type": "markdown",
   "metadata": {},
   "source": [
    "**Задание 2**. Дано значение объема файла в байтах. Напишите перевод этого значения в мегабайты в формате: \"*Объем файла равен 213.68Mb*\""
   ]
  },
  {
   "cell_type": "code",
   "execution_count": 2,
   "metadata": {},
   "outputs": [
    {
     "name": "stdout",
     "output_type": "stream",
     "text": [
      "Введите объем файла в байтах 67676767\n",
      "Объем файла равен  64.54159450531006 Mb\n"
     ]
    }
   ],
   "source": [
    "file_size = int (input ('Введите объем файла в байтах '))\n",
    "print ('Объем файла равен ', file_size / 1048576, 'Mb' )"
   ]
  },
  {
   "cell_type": "markdown",
   "metadata": {},
   "source": [
    "**Задание 3**. Разработать приложение для определения знака зодиака по дате рождения. Пример:\n",
    "\n",
    "Введите месяц: март\n",
    "\n",
    "Введите число: 6\n",
    "\n",
    "Вывод:\n",
    "Рыбы"
   ]
  },
  {
   "cell_type": "code",
   "execution_count": 31,
   "metadata": {},
   "outputs": [
    {
     "name": "stdout",
     "output_type": "stream",
     "text": [
      "Введите месяц ноябрь\n",
      "Введите число 7\n",
      "Знак Зодиака - Скорпион\n"
     ]
    }
   ],
   "source": [
    "month_bd = input ('Введите месяц ')\n",
    "data_bd = int (input ('Введите число '))\n",
    "\n",
    "if (month_bd == 'январь' and data_bd > 20) or (month_bd == 'февраль' and data_bd <=18) :\n",
    "    print ('Знак Зодиака - Водолей')\n",
    "elif (month_bd == 'февраль' and data_bd >= 19) or (month_bd == 'март' and data_bd < 20) : \n",
    "    print ('Знак Зодиака - Рыбы')\n",
    "elif (month_bd == 'март' and data_bd >= 21) or (month_bd == 'апрель' and data_bd <= 19) : \n",
    "    print ('Знак Зодиака - Овен')\n",
    "elif (month_bd == 'апрель' and data_bd >= 20) or (month_bd == 'май' and data_bd <= 20) : \n",
    "    print ('Знак Зодиака - Телец')   \n",
    "elif (month_bd == 'май' and data_bd >= 21) or (month_bd == 'июнь' and data_bd <= 21) : \n",
    "    print ('Знак Зодиака - Близнецы')   \n",
    "elif (month_bd == 'июнь' and data_bd >= 22) or (month_bd == 'июль' and data_bd <= 22) : \n",
    "    print ('Знак Зодиака - Рак')   \n",
    "elif (month_bd == 'июль' and data_bd >= 23) or (month_bd == 'август' and data_bd <= 22) : \n",
    "    print ('Знак Зодиака - Лев')\n",
    "elif (month_bd == 'август' and data_bd >= 23) or (month_bd == 'сентябрь' and data_bd <= 22) : \n",
    "    print ('Знак Зодиака - Дева')\n",
    "elif (month_bd == 'сентябрь' and data_bd >= 23) or (month_bd == 'октябрь' and data_bd <= 23) : \n",
    "    print ('Знак Зодиака - Весы')  \n",
    "elif (month_bd == 'октябрь' and data_bd >= 24) or (month_bd == 'ноябрь' and data_bd <= 22) : \n",
    "    print ('Знак Зодиака - Скорпион')   \n",
    "elif (month_bd == 'ноябрь' and data_bd >= 23) or (month_bd == 'декабрь' and data_bd <= 21) : \n",
    "    print ('Знак Зодиака - Стрелец')   \n",
    "elif (month_bd == 'декабрь' and data_bd >= 22) or (month_bd == 'январь' and data_bd <= 20) : \n",
    "    print ('Знак Зодиака - Козерог')       \n",
    "\n",
    "    \n",
    "    "
   ]
  },
  {
   "cell_type": "markdown",
   "metadata": {},
   "source": [
    "**Задание 4**. Нужно разработать приложение для финансового планирования.\n",
    "Приложение учитывает сколько уходит на ипотеку, \"на жизнь\" и сколько нужно отложить на пенсию.\n",
    "Пользователь вводит:\n",
    "- заработанную плату в месяц.\n",
    "- сколько процентов от ЗП уходит на ипотеку.\n",
    "- сколько процентов от ЗП уходит \"на жизнь\".\n",
    "- сколько раз приходит премия в год.\n",
    "\n",
    "Остальная часть заработанной платы откладывается на пенсию.\n",
    "\n",
    "Также пользователю приходит премия в размере зарплаты, от которой половина уходит на отпуск, а вторая половина откладывается.\n",
    "\n",
    "Программа должна учитывать сколько премий было в год.\n",
    "\n",
    "Нужно вывести сколько денег тратит пользователь на ипотеку и сколько он накопит за год.\n",
    "\n",
    "Пример:\n",
    "\n",
    "Введите заработанную плату в месяц: 100000\n",
    "\n",
    "Введите сколько процентов уходит на ипотеку: 30\n",
    "\n",
    "Введите сколько процентов уходит на жизнь: 50\n",
    "\n",
    "Введите количество премий за год: 2\n",
    "\n",
    "Вывод:\n",
    "На ипотеку было потрачено: 360000 рублей\n",
    "Было накоплено: 340000 рублей"
   ]
  },
  {
   "cell_type": "code",
   "execution_count": 13,
   "metadata": {},
   "outputs": [
    {
     "name": "stdout",
     "output_type": "stream",
     "text": [
      "Введите заработную плату 100000\n",
      "Введите %, который уходит на ипотеку 30\n",
      "Введите %, которые уходит \"на жизнь\" 50\n",
      "Введите количество премий за год 2\n",
      "Потрачено за год на ипотеку  360000.0 рублей\n",
      "Накоплено за год 340000.0 рублей\n"
     ]
    }
   ],
   "source": [
    "salary = int (input ('Введите заработную плату '))\n",
    "ipoteka = int (input ('Введите %, который уходит на ипотеку '))\n",
    "lifestyle = int (input ('Введите %, которые уходит \"на жизнь\" '))\n",
    "bonus = int (input ('Введите количество премий за год '))\n",
    "savings = (salary *(100-ipoteka-lifestyle)/100 * 12) + (salary/2 * bonus)\n",
    "print ('Потрачено за год на ипотеку ', salary * ipoteka/100*12, 'рублей' )\n",
    "print ('Накоплено за год', savings, 'рублей')\n"
   ]
  },
  {
   "cell_type": "code",
   "execution_count": 18,
   "metadata": {},
   "outputs": [
    {
     "name": "stdout",
     "output_type": "stream",
     "text": [
      "Введите слово питон\n",
      "т\n"
     ]
    }
   ],
   "source": [
    "word = input ('Введите слово ')\n",
    "l= int (len (word)/2)\n",
    "if len (word)% 2 ==0:\n",
    "    print (word[(l-1):(l + 1)])\n",
    "else:\n",
    "    print (word[l])"
   ]
  },
  {
   "cell_type": "code",
   "execution_count": 1,
   "metadata": {},
   "outputs": [
    {
     "name": "stdout",
     "output_type": "stream",
     "text": [
      "10\n",
      "40\n",
      "N =  4.0\n"
     ]
    }
   ],
   "source": [
    "signal = '1011101110111011101110111011101110111011'\n",
    "print (signal.count ('1011'))\n",
    "print (len (signal))\n",
    "print ('N = ', len (signal)/ signal.count ('1011'))"
   ]
  },
  {
   "cell_type": "code",
   "execution_count": 60,
   "metadata": {},
   "outputs": [
    {
     "name": "stdout",
     "output_type": "stream",
     "text": [
      "1\n",
      "2\n",
      "Fizz\n",
      "4\n",
      "Buzz\n",
      "Fizz\n",
      "7\n",
      "8\n",
      "Fizz\n",
      "Buzz\n",
      "11\n",
      "Fizz\n",
      "13\n",
      "14\n",
      "FizzBuzz\n",
      "16\n",
      "17\n",
      "Fizz\n",
      "19\n",
      "Buzz\n",
      "Fizz\n",
      "22\n",
      "23\n",
      "Fizz\n",
      "Buzz\n",
      "26\n",
      "Fizz\n",
      "28\n",
      "29\n",
      "FizzBuzz\n",
      "31\n",
      "32\n",
      "Fizz\n",
      "34\n",
      "Buzz\n",
      "Fizz\n",
      "37\n",
      "38\n",
      "Fizz\n",
      "Buzz\n",
      "41\n",
      "Fizz\n",
      "43\n",
      "44\n",
      "FizzBuzz\n",
      "46\n",
      "47\n",
      "Fizz\n",
      "49\n",
      "Buzz\n",
      "Fizz\n",
      "52\n",
      "53\n",
      "Fizz\n",
      "Buzz\n",
      "56\n",
      "Fizz\n",
      "58\n",
      "59\n",
      "FizzBuzz\n",
      "61\n",
      "62\n",
      "Fizz\n",
      "64\n",
      "Buzz\n",
      "Fizz\n",
      "67\n",
      "68\n",
      "Fizz\n",
      "Buzz\n",
      "71\n",
      "Fizz\n",
      "73\n",
      "74\n",
      "FizzBuzz\n",
      "76\n",
      "77\n",
      "Fizz\n",
      "79\n",
      "Buzz\n",
      "Fizz\n",
      "82\n",
      "83\n",
      "Fizz\n",
      "Buzz\n",
      "86\n",
      "Fizz\n",
      "88\n",
      "89\n",
      "FizzBuzz\n",
      "91\n",
      "92\n",
      "Fizz\n",
      "94\n",
      "Buzz\n",
      "Fizz\n",
      "97\n",
      "98\n",
      "Fizz\n",
      "Buzz\n"
     ]
    }
   ],
   "source": [
    "for number in range(1,101):\n",
    "    if number % 3 == 0 and number % 5 == 0:\n",
    "        print('FizzBuzz')\n",
    "    elif number % 3 == 0:\n",
    "        print('Fizz')\n",
    "    elif number % 5 == 0:\n",
    "        print('Buzz')\n",
    "    else:\n",
    "        print(number)\n",
    "        number=number+1"
   ]
  }
 ],
 "metadata": {
  "kernelspec": {
   "display_name": "Python 3",
   "language": "python",
   "name": "python3"
  },
  "language_info": {
   "codemirror_mode": {
    "name": "ipython",
    "version": 3
   },
   "file_extension": ".py",
   "mimetype": "text/x-python",
   "name": "python",
   "nbconvert_exporter": "python",
   "pygments_lexer": "ipython3",
   "version": "3.7.4"
  }
 },
 "nbformat": 4,
 "nbformat_minor": 2
}
